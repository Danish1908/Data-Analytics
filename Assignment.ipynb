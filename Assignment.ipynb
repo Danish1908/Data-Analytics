{
 "cells": [
  {
   "cell_type": "code",
   "execution_count": 5,
   "metadata": {},
   "outputs": [],
   "source": [
    "shape=str(input(\"Enter the shape\"))\n",
    "pi=3.14\n",
    "C=\"circle\"\n",
    "R=\"rectangle\"\n",
    "S=\"square\"\n",
    "if shape is C:\n",
    "    r=int(input(\"Enter the value\"))\n",
    "    Area=pi*r**2\n",
    "    print(\"Area of circle is\",Area)\n",
    "elif shape is R:\n",
    "    l=int(input(\"Enter the value\"))\n",
    "    b=int(input(\"Enter the value\"))\n",
    "    Area=l*b\n",
    "    print(\"Area of rectangle\",Area)\n",
    "elif shape is S:\n",
    "    a=int(input(\"Enter the value\"))\n",
    "    Area=a*a\n",
    "    print(\"Area of square\",Area)"
   ]
  },
  {
   "cell_type": "code",
   "execution_count": 8,
   "metadata": {},
   "outputs": [
    {
     "ename": "SyntaxError",
     "evalue": "expression cannot contain assignment, perhaps you meant \"==\"? (2362270821.py, line 4)",
     "output_type": "error",
     "traceback": [
      "\u001b[1;36m  Cell \u001b[1;32mIn[8], line 4\u001b[1;36m\u001b[0m\n\u001b[1;33m    print(c*c=a*a+b*b)\u001b[0m\n\u001b[1;37m          ^\u001b[0m\n\u001b[1;31mSyntaxError\u001b[0m\u001b[1;31m:\u001b[0m expression cannot contain assignment, perhaps you meant \"==\"?\n"
     ]
    }
   ],
   "source": [
    "a=int(input(\"Enter the value\"))\n",
    "b=int(input(\"Enter the value\"))\n",
    "c=int(input(\"Enter the value\"))\n",
    "print(c*c=a*a+b*b)"
   ]
  },
  {
   "cell_type": "code",
   "execution_count": 15,
   "metadata": {},
   "outputs": [
    {
     "name": "stdout",
     "output_type": "stream",
     "text": [
      "Number is not a prime number\n"
     ]
    }
   ],
   "source": [
    "x=int(input(\"Enter the value\"))\n",
    "if x/x==0 and x/1==0:\n",
    "    print(\"Number is prime number\")\n",
    "elif x/x!=0 and x/1!=0:\n",
    "    print(\"Number is not a prime number\")"
   ]
  },
  {
   "cell_type": "code",
   "execution_count": 4,
   "metadata": {},
   "outputs": [
    {
     "name": "stdout",
     "output_type": "stream",
     "text": [
      "Not Weired\n"
     ]
    }
   ],
   "source": [
    "x=int(input(\"Enter a number\"))\n",
    "if x%2!=0:\n",
    "    print(\"Weired\")\n",
    "elif x%2==0 and 2<=x<=5:\n",
    "    print(\"Not Weired\")\n",
    "elif x%2==0 and 6<=x<=20:\n",
    "    print(\"Weired\")\n",
    "elif x%2==0 and x>20:\n",
    "    print(\"Not Weired\")"
   ]
  },
  {
   "cell_type": "code",
   "execution_count": 11,
   "metadata": {},
   "outputs": [
    {
     "name": "stdout",
     "output_type": "stream",
     "text": [
      "Leap Year\n"
     ]
    }
   ],
   "source": [
    "year=int(input(\"Enter the year\"))\n",
    "if year%4==0:\n",
    "    print(\"Leap Year\")\n",
    "else:\n",
    "    print(\"Not leap year\")"
   ]
  },
  {
   "cell_type": "code",
   "execution_count": 13,
   "metadata": {},
   "outputs": [
    {
     "name": "stdout",
     "output_type": "stream",
     "text": [
      "15 x 1 = 15\n",
      "15 x 2 = 30\n",
      "15 x 3 = 45\n",
      "15 x 4 = 60\n",
      "15 x 5 = 75\n",
      "15 x 6 = 90\n",
      "15 x 7 = 105\n",
      "15 x 8 = 120\n",
      "15 x 9 = 135\n",
      "15 x 10 = 150\n"
     ]
    }
   ],
   "source": [
    "x=int(input(\"Enter the number\"))\n",
    "for i in range(1,11):\n",
    "    print(x, \"x\" ,i, \"=\",x*i)"
   ]
  },
  {
   "cell_type": "code",
   "execution_count": 23,
   "metadata": {},
   "outputs": [
    {
     "name": "stdout",
     "output_type": "stream",
     "text": [
      "1 1\n",
      "3 9\n",
      "5 25\n",
      "2 4\n",
      "7 49\n",
      "5 25\n",
      "6 36\n",
      "3 9\n",
      "4 16\n",
      "2 4\n"
     ]
    }
   ],
   "source": [
    "x=(1,3,5,2,7,5,6,3,4,2)\n",
    "for i in x:\n",
    "    print(i,end =' ')\n",
    "    print(i**2)"
   ]
  },
  {
   "cell_type": "code",
   "execution_count": 5,
   "metadata": {},
   "outputs": [
    {
     "name": "stdout",
     "output_type": "stream",
     "text": [
      " Jan 31 \n"
     ]
    }
   ],
   "source": [
    "x=str(input(\"Please enter\"))\n",
    "a=[\"Monday\",\"Tuesday\",\"Wednesday\",\"Thursday\",\"Friday\",\"Saturday\",\"Sunday\"]\n",
    "b=[\"Jan\",\"Feb\",\"Mar\",\"Apr\",\"May\",\"Jun\",\"Jul\",\"Aug\",\"Sep\",\"Oct\",\"Nov\",\"Dec\"]\n",
    "c=[31,28,31,30,31,30,31,31,30,31,30,31]\n",
    "if x in a:\n",
    "    print(f\"{x} is a day\")\n",
    "elif x in b:\n",
    "    i=b.index(x)\n",
    "    print(f\" {x} {c[i]} \")"
   ]
  },
  {
   "cell_type": "code",
   "execution_count": null,
   "metadata": {},
   "outputs": [],
   "source": []
  }
 ],
 "metadata": {
  "kernelspec": {
   "display_name": "Python 3",
   "language": "python",
   "name": "python3"
  },
  "language_info": {
   "codemirror_mode": {
    "name": "ipython",
    "version": 3
   },
   "file_extension": ".py",
   "mimetype": "text/x-python",
   "name": "python",
   "nbconvert_exporter": "python",
   "pygments_lexer": "ipython3",
   "version": "3.11.4"
  },
  "orig_nbformat": 4
 },
 "nbformat": 4,
 "nbformat_minor": 2
}
