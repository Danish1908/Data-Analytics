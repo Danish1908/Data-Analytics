{
 "cells": [
  {
   "cell_type": "code",
   "execution_count": 21,
   "metadata": {},
   "outputs": [
    {
     "name": "stdout",
     "output_type": "stream",
     "text": [
      "{'name': 'John Cena', 'class': '2nd', 'roll no': 21, 'marks': 90}\n"
     ]
    }
   ],
   "source": [
    "students={'name' : 'John Cena',\n",
    "          'class' : '2nd',\n",
    "          'roll no' : 21,\n",
    "          'marks' : 90}\n",
    "print(students)"
   ]
  },
  {
   "cell_type": "markdown",
   "metadata": {},
   "source": [
    "to access values there are 2 methods"
   ]
  },
  {
   "cell_type": "code",
   "execution_count": 22,
   "metadata": {},
   "outputs": [
    {
     "name": "stdout",
     "output_type": "stream",
     "text": [
      "John Cena\n",
      "2nd\n"
     ]
    }
   ],
   "source": [
    "#list method\n",
    "print(students['name'])\n",
    "print(students['class'])"
   ]
  },
  {
   "cell_type": "code",
   "execution_count": 23,
   "metadata": {},
   "outputs": [
    {
     "name": "stdout",
     "output_type": "stream",
     "text": [
      "John Cena\n",
      "2nd\n"
     ]
    }
   ],
   "source": [
    "#2nd method\n",
    "print(students.get('name'))\n",
    "print(students.get('class'))"
   ]
  },
  {
   "cell_type": "code",
   "execution_count": 24,
   "metadata": {},
   "outputs": [
    {
     "name": "stdout",
     "output_type": "stream",
     "text": [
      "{'name': 'John Cena', 'class': '2nd', 'roll no': 21, 'marks': 90, 'school': 'SKD', 'Fathers name': 'Sam'}\n"
     ]
    }
   ],
   "source": [
    "#to add items in dictionary\n",
    "students['school']='SKD'\n",
    "students['Fathers name']='Sam'\n",
    "print(students)"
   ]
  },
  {
   "cell_type": "code",
   "execution_count": 25,
   "metadata": {},
   "outputs": [
    {
     "name": "stdout",
     "output_type": "stream",
     "text": [
      "name\n",
      "class\n",
      "roll no\n",
      "marks\n",
      "school\n",
      "Fathers name\n"
     ]
    }
   ],
   "source": [
    "#to print only keys\n",
    "for key in students:\n",
    "    print(key)"
   ]
  },
  {
   "cell_type": "code",
   "execution_count": 26,
   "metadata": {},
   "outputs": [
    {
     "name": "stdout",
     "output_type": "stream",
     "text": [
      "name : John Cena\n",
      "class : 2nd\n",
      "roll no : 21\n",
      "marks : 90\n",
      "school : SKD\n",
      "Fathers name : Sam\n"
     ]
    }
   ],
   "source": [
    "#to print key and value both\n",
    "for k,v in students.items():\n",
    "    print(f'{k} : {v}')"
   ]
  },
  {
   "cell_type": "code",
   "execution_count": 27,
   "metadata": {},
   "outputs": [
    {
     "name": "stdout",
     "output_type": "stream",
     "text": [
      "dict_keys(['name', 'class', 'roll no', 'marks', 'school', 'Fathers name'])\n",
      "dict_values(['John Cena', '2nd', 21, 90, 'SKD', 'Sam'])\n",
      "dict_items([('name', 'John Cena'), ('class', '2nd'), ('roll no', 21), ('marks', 90), ('school', 'SKD'), ('Fathers name', 'Sam')])\n"
     ]
    }
   ],
   "source": [
    "print(students.keys())\n",
    "print(students.values())\n",
    "print(students.items())"
   ]
  },
  {
   "cell_type": "code",
   "execution_count": 28,
   "metadata": {},
   "outputs": [
    {
     "name": "stdout",
     "output_type": "stream",
     "text": [
      "{'English': 67, 'Hindi': 90, 'Maths': 37, 'Science': 75, 'Social Science': 30}\n"
     ]
    }
   ],
   "source": [
    "raj_dict={'English' : 67,\n",
    "          'Hindi' : 90,\n",
    "          'Maths' : 37,\n",
    "          'Science' : 75,\n",
    "          'Social Science' : 30\n",
    "}\n",
    "print(raj_dict)"
   ]
  },
  {
   "cell_type": "code",
   "execution_count": 29,
   "metadata": {},
   "outputs": [
    {
     "name": "stdout",
     "output_type": "stream",
     "text": [
      "{'emp01': {'name': 'John', 'age': 25, 'designation': 'Team Leader', 'salary': 32000}, 'emp02': {'name': 'Raj', 'age': 30, 'designation': 'Developer', 'salry': 35000}, 'emp03': {'name': 'Sam', 'age': 31, 'designation': 'Associate', 'salary': 30000}}\n"
     ]
    }
   ],
   "source": [
    "company={\n",
    "    'emp01' : {\n",
    "        'name' : 'John',\n",
    "        'age' : 25,\n",
    "        'designation' : 'Team Leader',\n",
    "        'salary' : 32000\n",
    "    },\n",
    "    'emp02' : {\n",
    "        'name' : 'Raj',\n",
    "        'age' : 30,\n",
    "        'designation' : 'Developer',\n",
    "        'salry' : 35000\n",
    "    },\n",
    "    'emp03' : {\n",
    "        'name' : 'Sam',\n",
    "        'age' : 31,\n",
    "        'designation' : 'Associate',\n",
    "        'salary' : 30000\n",
    "    }\n",
    "}\n",
    "print(company)"
   ]
  },
  {
   "cell_type": "code",
   "execution_count": 30,
   "metadata": {},
   "outputs": [
    {
     "name": "stdout",
     "output_type": "stream",
     "text": [
      "{'emp01': {'name': 'John', 'age': 25, 'designation': 'Team Leader', 'salary': 32000}, 'emp02': {'name': 'Raj', 'age': 30, 'designation': 'Developer', 'salry': 35000}, 'emp03': {'name': 'Sam', 'age': 31, 'designation': 'Associate', 'salary': 30000}, 'emp04': {'name': 'Anjali', 'age': 30, 'designation': 'Developer', 'salry': 31000}}\n"
     ]
    }
   ],
   "source": [
    "company['emp04']= {\n",
    "     'name' : 'Anjali',\n",
    "        'age' : 30,\n",
    "        'designation' : 'Developer',\n",
    "        'salry' : 31000\n",
    "}\n",
    "print(company)"
   ]
  },
  {
   "cell_type": "code",
   "execution_count": 31,
   "metadata": {},
   "outputs": [
    {
     "name": "stdout",
     "output_type": "stream",
     "text": [
      "dict_keys(['emp01', 'emp02', 'emp03', 'emp04'])\n",
      "dict_values([{'name': 'John', 'age': 25, 'designation': 'Team Leader', 'salary': 32000}, {'name': 'Raj', 'age': 30, 'designation': 'Developer', 'salry': 35000}, {'name': 'Sam', 'age': 31, 'designation': 'Associate', 'salary': 30000}, {'name': 'Anjali', 'age': 30, 'designation': 'Developer', 'salry': 31000}])\n"
     ]
    }
   ],
   "source": [
    "print(company.keys())\n",
    "print(company.values())"
   ]
  },
  {
   "cell_type": "code",
   "execution_count": 33,
   "metadata": {},
   "outputs": [
    {
     "name": "stdout",
     "output_type": "stream",
     "text": [
      "emp01 : {'name': 'John', 'age': 25, 'designation': 'Team Leader', 'salary': 32000}\n",
      "emp02 : {'name': 'Raj', 'age': 30, 'designation': 'Developer', 'salry': 35000}\n",
      "emp03 : {'name': 'Sam', 'age': 31, 'designation': 'Associate', 'salary': 30000}\n",
      "emp04 : {'name': 'Anjali', 'age': 30, 'designation': 'Developer', 'salry': 31000}\n"
     ]
    }
   ],
   "source": [
    "for k,v in company.items():\n",
    "    print(f\"{k} : {v}\")"
   ]
  },
  {
   "cell_type": "code",
   "execution_count": null,
   "metadata": {},
   "outputs": [],
   "source": []
  }
 ],
 "metadata": {
  "kernelspec": {
   "display_name": "Python 3",
   "language": "python",
   "name": "python3"
  },
  "language_info": {
   "codemirror_mode": {
    "name": "ipython",
    "version": 3
   },
   "file_extension": ".py",
   "mimetype": "text/x-python",
   "name": "python",
   "nbconvert_exporter": "python",
   "pygments_lexer": "ipython3",
   "version": "3.11.4"
  },
  "orig_nbformat": 4
 },
 "nbformat": 4,
 "nbformat_minor": 2
}
