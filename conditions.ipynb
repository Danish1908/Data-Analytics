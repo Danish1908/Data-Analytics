{
 "cells": [
  {
   "cell_type": "markdown",
   "metadata": {},
   "source": [
    "If condition"
   ]
  },
  {
   "cell_type": "code",
   "execution_count": 1,
   "metadata": {},
   "outputs": [
    {
     "name": "stdout",
     "output_type": "stream",
     "text": [
      "x is less than y\n",
      "x is less than z\n"
     ]
    }
   ],
   "source": [
    "x=5\n",
    "y=10\n",
    "z=15\n",
    "if x>y:\n",
    "    print('x is greater than y')\n",
    "if x<y:\n",
    "    print('x is less than y')\n",
    "if x>z:\n",
    "    print('x is gretaer than z')\n",
    "if x<z:\n",
    "    print('x is less than z')"
   ]
  },
  {
   "cell_type": "code",
   "execution_count": 3,
   "metadata": {},
   "outputs": [
    {
     "name": "stdout",
     "output_type": "stream",
     "text": [
      "x is less than y\n"
     ]
    }
   ],
   "source": [
    "x=10\n",
    "y=15\n",
    "if x>y:\n",
    "    print('x is greater than y')\n",
    "if x<y:\n",
    "    print('x is less than y')"
   ]
  },
  {
   "cell_type": "markdown",
   "metadata": {},
   "source": [
    "Elif Condition"
   ]
  },
  {
   "cell_type": "code",
   "execution_count": 5,
   "metadata": {},
   "outputs": [
    {
     "name": "stdout",
     "output_type": "stream",
     "text": [
      "x is less than z\n"
     ]
    }
   ],
   "source": [
    "x=10\n",
    "y=20\n",
    "z=30\n",
    "if x>y:\n",
    "    print('x is greater than y')\n",
    "elif x<z:\n",
    "    print('x is less than z')\n",
    "else:\n",
    "    print('x is smallest')"
   ]
  },
  {
   "cell_type": "code",
   "execution_count": 10,
   "metadata": {},
   "outputs": [
    {
     "name": "stdout",
     "output_type": "stream",
     "text": [
      "Grand Total is 481\n",
      "Grade is C\n"
     ]
    }
   ],
   "source": [
    "Science=int(input('Enter a number'))\n",
    "Maths=int(input('Enter a number'))\n",
    "English=int(input('Enter a number'))\n",
    "Social_Science=int(input('Enter a number'))\n",
    "Computers=int(input('Enter a number'))\n",
    "Total=(Science+Maths+English+Social_Science+Computers)\n",
    "print('Grand Total is',Total)\n",
    "if Total>550:\n",
    "    print('Grade is A')\n",
    "elif Total>500:\n",
    "    print('Grade is B')\n",
    "elif Total>450:\n",
    "    print('Grade is C')\n",
    "elif Total>400:\n",
    "    print('Grade is D')\n",
    "else:\n",
    "    print('Grade is F')"
   ]
  },
  {
   "cell_type": "markdown",
   "metadata": {},
   "source": [
    "Enter a no from user and check is it vowel or consonant from the given list"
   ]
  },
  {
   "cell_type": "code",
   "execution_count": 22,
   "metadata": {},
   "outputs": [
    {
     "name": "stdout",
     "output_type": "stream",
     "text": [
      "Letter is consonant\n"
     ]
    }
   ],
   "source": [
    "Vowels=['a','e','i','o','u''A','E','O','I','O']\n",
    "Letter=input('Enter a letter:')\n",
    "if Letter in Vowels:\n",
    "      print('Letter is a vowel')\n",
    "else:\n",
    "    print('Letter is consonant')"
   ]
  },
  {
   "cell_type": "markdown",
   "metadata": {},
   "source": [
    "To check whether a person is eligible for voting or not"
   ]
  },
  {
   "cell_type": "code",
   "execution_count": 6,
   "metadata": {},
   "outputs": [
    {
     "name": "stdout",
     "output_type": "stream",
     "text": [
      "Age is 21\n",
      "Eligible for voting\n"
     ]
    }
   ],
   "source": [
    "Age=int(input(\"Enter your age\"))\n",
    "if Age>=18:\n",
    "    print(\"Age is\",Age)\n",
    "    print(\"Eligible for voting\")\n",
    "else:\n",
    "    print(\"Not eligible for voting\")"
   ]
  },
  {
   "cell_type": "code",
   "execution_count": 38,
   "metadata": {},
   "outputs": [
    {
     "name": "stdout",
     "output_type": "stream",
     "text": [
      "Number is 4\n",
      "Even Number\n"
     ]
    }
   ],
   "source": [
    "x=int(input(\"Enter a number\"))\n",
    "if x%2==0:\n",
    "    print(\"Number is\",x)\n",
    "    print(\"Even Number\")\n",
    "else:\n",
    "    print(\"Odd number\")"
   ]
  },
  {
   "cell_type": "code",
   "execution_count": 36,
   "metadata": {},
   "outputs": [
    {
     "name": "stdout",
     "output_type": "stream",
     "text": [
      "Not divisible by 7\n"
     ]
    }
   ],
   "source": [
    "x=int(input(\"Enter a number\"))\n",
    "if x%7==0:\n",
    "    print(\"Number is\",x)\n",
    "    print(\"Divisible by 7\")\n",
    "else:\n",
    "    print(\"Not divisible by 7\")"
   ]
  },
  {
   "cell_type": "markdown",
   "metadata": {},
   "source": [
    "Program to print hello if number is a multiple of 5 else print bye."
   ]
  },
  {
   "cell_type": "code",
   "execution_count": 32,
   "metadata": {},
   "outputs": [
    {
     "name": "stdout",
     "output_type": "stream",
     "text": [
      "Number is 45\n",
      "Hello\n"
     ]
    }
   ],
   "source": [
    "x=int(input(\"Enter a number\"))\n",
    "if x%5==0:\n",
    "    print(\"Number is\",x)\n",
    "    print(\"Hello\")\n",
    "else:\n",
    "    print(\"Bye\")"
   ]
  },
  {
   "cell_type": "markdown",
   "metadata": {},
   "source": [
    "Calculate Electricity bill acc to specific data(per unit rate)"
   ]
  },
  {
   "cell_type": "code",
   "execution_count": 28,
   "metadata": {},
   "outputs": [
    {
     "name": "stdout",
     "output_type": "stream",
     "text": [
      "Total Units is 250\n",
      "Amount is 1500\n"
     ]
    }
   ],
   "source": [
    "Units=int(input(\"Enter total units\"))\n",
    "if Units<=100:\n",
    "    print(\"Total Units is\",Units)\n",
    "    print(\"No Charge\")\n",
    "elif 100<Units<=200:\n",
    "    print(\"Total Units is\",Units)\n",
    "    print(\"Amount is\",(Units-100)*5)\n",
    "elif Units>200:\n",
    "    print(\"Total Units is\",Units)\n",
    "    print(\"Amount is\",(Units-100)*10)"
   ]
  },
  {
   "cell_type": "markdown",
   "metadata": {},
   "source": [
    "Print last digit of a number"
   ]
  },
  {
   "cell_type": "code",
   "execution_count": 39,
   "metadata": {},
   "outputs": [
    {
     "name": "stdout",
     "output_type": "stream",
     "text": [
      "Last number is 0\n"
     ]
    }
   ],
   "source": [
    "x=int(input(\"Enter a number\"))\n",
    "print(\"Last number is\",x%10)"
   ]
  },
  {
   "cell_type": "markdown",
   "metadata": {},
   "source": [
    "To  check last digit of a number is divisible by 3"
   ]
  },
  {
   "cell_type": "code",
   "execution_count": 41,
   "metadata": {},
   "outputs": [
    {
     "name": "stdout",
     "output_type": "stream",
     "text": [
      "Number is 45\n",
      "Not Divisible by 3\n"
     ]
    }
   ],
   "source": [
    "Num=int(input(\"Enter a number\"))\n",
    "X=Num%10\n",
    "if X%3==0:\n",
    "    print(\"Number is\",Num)\n",
    "    print(\"Last digit is divisible by 3\")\n",
    "else:\n",
    "    print(\"Number is\",Num)\n",
    "    print(\"Last digit is not divisible by 3\")"
   ]
  },
  {
   "cell_type": "markdown",
   "metadata": {},
   "source": [
    "To accept no between 1-5 and print weekdays. (1 as monday)"
   ]
  },
  {
   "cell_type": "code",
   "execution_count": 48,
   "metadata": {},
   "outputs": [
    {
     "name": "stdout",
     "output_type": "stream",
     "text": [
      "Tuesday\n"
     ]
    }
   ],
   "source": [
    "Number=int(input(\"Enter a number between 1 to 5\"))\n",
    "if Number==1:\n",
    "    print(\"Monday\")\n",
    "elif Number==2:\n",
    "    print(\"Tuesday\")\n",
    "elif Number==3:\n",
    "    print(\"Wednesday\")\n",
    "elif Number==4:\n",
    "    print(\"Thursday\")\n",
    "elif Number==5:\n",
    "    print(\"Friday\")\n",
    "else:\n",
    "    print(\"Enter a number between 1 to 5\")"
   ]
  },
  {
   "cell_type": "code",
   "execution_count": 54,
   "metadata": {},
   "outputs": [
    {
     "name": "stdout",
     "output_type": "stream",
     "text": [
      "Bhool Bhulaiya\n"
     ]
    }
   ],
   "source": [
    "City=str(input(\"Enter city name\"))\n",
    "if City==\"Delhi\":\n",
    "    print(\"Red Fort\")\n",
    "elif City==\"Agra\":\n",
    "    print(\"Taj Mahal\")\n",
    "elif City==\"Lucknow\":\n",
    "    print(\"Bhool Bhulaiya\")"
   ]
  },
  {
   "cell_type": "code",
   "execution_count": 14,
   "metadata": {},
   "outputs": [
    {
     "name": "stdout",
     "output_type": "stream",
     "text": [
      "Password not matched 🤐\n"
     ]
    }
   ],
   "source": [
    "name=input(\"Enter the username\")\n",
    "email=input(\"Enter the email\")\n",
    "ps=input(\"Enter the password\")\n",
    "ps2=input(\"Enter the password again\")\n",
    "if len(name)>=4 and len(name)<=15:\n",
    "    if '@' in email and email. islower() and len(email)>10:\n",
    "        if  len(ps)>=6  and ps!=name:\n",
    "            if  ps==ps2:\n",
    "                print(\"Hurray 🎉\")\n",
    "            else:\n",
    "                print(\"Password not matched 🤐\")\n",
    "        else:\n",
    "            print(\"Invalid Password\") \n",
    "    else:\n",
    "        print(\"Invalid email\")\n",
    "else:\n",
    "    print(\"Invalid Name\")        "
   ]
  },
  {
   "cell_type": "code",
   "execution_count": 2,
   "metadata": {},
   "outputs": [
    {
     "name": "stdout",
     "output_type": "stream",
     "text": [
      "I will go to the beach\n"
     ]
    }
   ],
   "source": [
    "temperature=25\n",
    "wether=\"sunny\"\n",
    "if wether==\"sunny\":\n",
    "    print(\"I will go to the beach\")\n",
    "else:\n",
    "    print(\"I will stay at home\")"
   ]
  },
  {
   "cell_type": "markdown",
   "metadata": {},
   "source": [
    "Calculator"
   ]
  },
  {
   "cell_type": "code",
   "execution_count": 15,
   "metadata": {},
   "outputs": [
    {
     "name": "stdout",
     "output_type": "stream",
     "text": [
      "Value 1 2\n",
      "Value 2 10\n",
      "Operation Divide\n",
      "0.2\n"
     ]
    }
   ],
   "source": [
    "V1=int(input(\"Enter the value\"))\n",
    "V2=int(input(\"Enter the value\"))\n",
    "R=input(\"Enter the operation\")\n",
    "print(\"Value 1\",V1)\n",
    "print(\"Value 2\",V2)\n",
    "print(\"Operation\",R)\n",
    "if R==\"Add\":\n",
    "    print(V1+V2)\n",
    "elif R==\"substract\":\n",
    "    if V1>V2:\n",
    "        print(V1-V2)\n",
    "    else:\n",
    "        print(V2-V1)\n",
    "elif R==\"Multiply\":\n",
    "    print(V1*V2)\n",
    "elif R==\"Divide\":\n",
    "    print(V1/V2)"
   ]
  },
  {
   "cell_type": "code",
   "execution_count": null,
   "metadata": {},
   "outputs": [],
   "source": []
  }
 ],
 "metadata": {
  "kernelspec": {
   "display_name": "Python 3",
   "language": "python",
   "name": "python3"
  },
  "language_info": {
   "codemirror_mode": {
    "name": "ipython",
    "version": 3
   },
   "file_extension": ".py",
   "mimetype": "text/x-python",
   "name": "python",
   "nbconvert_exporter": "python",
   "pygments_lexer": "ipython3",
   "version": "3.11.4"
  },
  "orig_nbformat": 4
 },
 "nbformat": 4,
 "nbformat_minor": 2
}
