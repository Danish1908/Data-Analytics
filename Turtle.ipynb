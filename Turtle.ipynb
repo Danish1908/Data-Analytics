{
 "cells": [
  {
   "cell_type": "code",
   "execution_count": null,
   "metadata": {},
   "outputs": [],
   "source": [
    "from turtle import *\n",
    "fillcolor('red')\n",
    "begin_fill()\n",
    "fd(100)\n",
    "lt(72)\n",
    "fd(100)\n",
    "lt(72)\n",
    "fd(100)\n",
    "lt(72)\n",
    "fd(100)\n",
    "lt(72)\n",
    "fd(100)\n",
    "lt(72)\n",
    "end_fill()\n",
    "mainloop()"
   ]
  },
  {
   "cell_type": "code",
   "execution_count": null,
   "metadata": {},
   "outputs": [],
   "source": [
    "from turtle import *\n",
    "fillcolor('yellow')\n",
    "begin_fill()\n",
    "for i in range(5):\n",
    "    fd(100)\n",
    "    lt(72)\n",
    "end_fill()\n",
    "mainloop()"
   ]
  },
  {
   "cell_type": "code",
   "execution_count": null,
   "metadata": {},
   "outputs": [],
   "source": [
    "from turtle import *\n",
    "speed('slow')\n",
    "pencolor('red')\n",
    "for i in range(100):\n",
    "    fd(i*5)\n",
    "    lt(90)\n",
    "mainloop()"
   ]
  },
  {
   "cell_type": "code",
   "execution_count": null,
   "metadata": {},
   "outputs": [],
   "source": [
    "from turtle import *\n",
    "pensize(3)\n",
    "pencolor('black')\n",
    "fillcolor('red')\n",
    "speed('slow')\n",
    "begin_fill()\n",
    "for i in range(10,0,-1):\n",
    "    circle(i*10)\n",
    "    lt(25)\n",
    "end_fill()\n",
    "mainloop()"
   ]
  },
  {
   "cell_type": "code",
   "execution_count": null,
   "metadata": {},
   "outputs": [
    {
     "ename": "Terminator",
     "evalue": "",
     "output_type": "error",
     "traceback": [
      "\u001b[1;31m---------------------------------------------------------------------------\u001b[0m",
      "\u001b[1;31mTclError\u001b[0m                                  Traceback (most recent call last)",
      "File \u001b[1;32m<string>:8\u001b[0m, in \u001b[0;36mfd\u001b[1;34m(distance)\u001b[0m\n",
      "File \u001b[1;32mC:\\Program Files\\WindowsApps\\PythonSoftwareFoundation.Python.3.11_3.11.1264.0_x64__qbz5n2kfra8p0\\Lib\\turtle.py:1638\u001b[0m, in \u001b[0;36mTNavigator.forward\u001b[1;34m(self, distance)\u001b[0m\n\u001b[0;32m   1618\u001b[0m \u001b[39m\u001b[39m\u001b[39m\"\"\"Move the turtle forward by the specified distance.\u001b[39;00m\n\u001b[0;32m   1619\u001b[0m \n\u001b[0;32m   1620\u001b[0m \u001b[39mAliases: forward | fd\u001b[39;00m\n\u001b[1;32m   (...)\u001b[0m\n\u001b[0;32m   1636\u001b[0m \u001b[39m(-50.00,0.00)\u001b[39;00m\n\u001b[0;32m   1637\u001b[0m \u001b[39m\"\"\"\u001b[39;00m\n\u001b[1;32m-> 1638\u001b[0m \u001b[39mself\u001b[39;49m\u001b[39m.\u001b[39;49m_go(distance)\n",
      "File \u001b[1;32mC:\\Program Files\\WindowsApps\\PythonSoftwareFoundation.Python.3.11_3.11.1264.0_x64__qbz5n2kfra8p0\\Lib\\turtle.py:1606\u001b[0m, in \u001b[0;36mTNavigator._go\u001b[1;34m(self, distance)\u001b[0m\n\u001b[0;32m   1605\u001b[0m ende \u001b[39m=\u001b[39m \u001b[39mself\u001b[39m\u001b[39m.\u001b[39m_position \u001b[39m+\u001b[39m \u001b[39mself\u001b[39m\u001b[39m.\u001b[39m_orient \u001b[39m*\u001b[39m distance\n\u001b[1;32m-> 1606\u001b[0m \u001b[39mself\u001b[39;49m\u001b[39m.\u001b[39;49m_goto(ende)\n",
      "File \u001b[1;32mC:\\Program Files\\WindowsApps\\PythonSoftwareFoundation.Python.3.11_3.11.1264.0_x64__qbz5n2kfra8p0\\Lib\\turtle.py:3198\u001b[0m, in \u001b[0;36mRawTurtle._goto\u001b[1;34m(self, end)\u001b[0m\n\u001b[0;32m   3197\u001b[0m     \u001b[39mif\u001b[39;00m \u001b[39mself\u001b[39m\u001b[39m.\u001b[39m_drawing:\n\u001b[1;32m-> 3198\u001b[0m         screen\u001b[39m.\u001b[39;49m_drawline(\u001b[39mself\u001b[39;49m\u001b[39m.\u001b[39;49mdrawingLineItem, ((\u001b[39m0\u001b[39;49m, \u001b[39m0\u001b[39;49m), (\u001b[39m0\u001b[39;49m, \u001b[39m0\u001b[39;49m)),\n\u001b[0;32m   3199\u001b[0m                                        fill\u001b[39m=\u001b[39;49m\u001b[39m\"\u001b[39;49m\u001b[39m\"\u001b[39;49m, width\u001b[39m=\u001b[39;49m\u001b[39mself\u001b[39;49m\u001b[39m.\u001b[39;49m_pensize)\n\u001b[0;32m   3200\u001b[0m \u001b[39m# Turtle now at end,\u001b[39;00m\n",
      "File \u001b[1;32mC:\\Program Files\\WindowsApps\\PythonSoftwareFoundation.Python.3.11_3.11.1264.0_x64__qbz5n2kfra8p0\\Lib\\turtle.py:545\u001b[0m, in \u001b[0;36mTurtleScreenBase._drawline\u001b[1;34m(self, lineitem, coordlist, fill, width, top)\u001b[0m\n\u001b[0;32m    544\u001b[0m         cl\u001b[39m.\u001b[39mappend(\u001b[39m-\u001b[39my \u001b[39m*\u001b[39m \u001b[39mself\u001b[39m\u001b[39m.\u001b[39myscale)\n\u001b[1;32m--> 545\u001b[0m     \u001b[39mself\u001b[39;49m\u001b[39m.\u001b[39;49mcv\u001b[39m.\u001b[39;49mcoords(lineitem, \u001b[39m*\u001b[39;49mcl)\n\u001b[0;32m    546\u001b[0m \u001b[39mif\u001b[39;00m fill \u001b[39mis\u001b[39;00m \u001b[39mnot\u001b[39;00m \u001b[39mNone\u001b[39;00m:\n",
      "File \u001b[1;32m<string>:1\u001b[0m, in \u001b[0;36mcoords\u001b[1;34m(self, *args, **kw)\u001b[0m\n",
      "File \u001b[1;32mC:\\Program Files\\WindowsApps\\PythonSoftwareFoundation.Python.3.11_3.11.1264.0_x64__qbz5n2kfra8p0\\Lib\\tkinter\\__init__.py:2822\u001b[0m, in \u001b[0;36mCanvas.coords\u001b[1;34m(self, *args)\u001b[0m\n\u001b[0;32m   2819\u001b[0m \u001b[39m# XXX Should use _flatten on args\u001b[39;00m\n\u001b[0;32m   2820\u001b[0m \u001b[39mreturn\u001b[39;00m [\u001b[39mself\u001b[39m\u001b[39m.\u001b[39mtk\u001b[39m.\u001b[39mgetdouble(x) \u001b[39mfor\u001b[39;00m x \u001b[39min\u001b[39;00m\n\u001b[0;32m   2821\u001b[0m                    \u001b[39mself\u001b[39m\u001b[39m.\u001b[39mtk\u001b[39m.\u001b[39msplitlist(\n\u001b[1;32m-> 2822\u001b[0m            \u001b[39mself\u001b[39;49m\u001b[39m.\u001b[39;49mtk\u001b[39m.\u001b[39;49mcall((\u001b[39mself\u001b[39;49m\u001b[39m.\u001b[39;49m_w, \u001b[39m'\u001b[39;49m\u001b[39mcoords\u001b[39;49m\u001b[39m'\u001b[39;49m) \u001b[39m+\u001b[39;49m args))]\n",
      "\u001b[1;31mTclError\u001b[0m: invalid command name \".!canvas\"",
      "\nDuring handling of the above exception, another exception occurred:\n",
      "\u001b[1;31mTerminator\u001b[0m                                Traceback (most recent call last)",
      "Cell \u001b[1;32mIn[33], line 8\u001b[0m\n\u001b[0;32m      6\u001b[0m     pencolor(colors[x \u001b[39m%\u001b[39m \u001b[39m6\u001b[39m])\n\u001b[0;32m      7\u001b[0m     width(x\u001b[39m/\u001b[39m\u001b[39m100\u001b[39m\u001b[39m+\u001b[39m\u001b[39m1\u001b[39m)\n\u001b[1;32m----> 8\u001b[0m     fd(x)\n\u001b[0;32m      9\u001b[0m     lt(\u001b[39m59\u001b[39m)\n\u001b[0;32m     10\u001b[0m mainloop()\n",
      "File \u001b[1;32m<string>:12\u001b[0m, in \u001b[0;36mfd\u001b[1;34m(distance)\u001b[0m\n",
      "\u001b[1;31mTerminator\u001b[0m: "
     ]
    }
   ],
   "source": [
    "from turtle import *\n",
    "bgcolor('black')\n",
    "speed('fast')\n",
    "colors=['red','purple','blue','green','yellow','orange']\n",
    "for x in range(360):\n",
    "    pencolor(colors[x % 6])\n",
    "    width(x/100+1)\n",
    "    fd(x)\n",
    "    lt(59)\n",
    "mainloop()"
   ]
  },
  {
   "cell_type": "code",
   "execution_count": null,
   "metadata": {},
   "outputs": [],
   "source": [
    "from turtle import *\n",
    "bgcolor('black')\n",
    "speed('fast')\n",
    "pencolor('red')\n",
    "for x in range(1):\n",
    "    fd(100)\n",
    "    rt(120)\n",
    "    fd(100)\n",
    "mainloop()"
   ]
  },
  {
   "cell_type": "code",
   "execution_count": 36,
   "metadata": {},
   "outputs": [],
   "source": [
    "from turtle import *\n",
    "bgcolor('black')\n",
    "speed('fast')\n",
    "pencolor('red')\n",
    "for x in range(4):\n",
    "    fd(100)\n",
    "    lt(90)\n",
    "   \n",
    "mainloop()"
   ]
  },
  {
   "cell_type": "code",
   "execution_count": 42,
   "metadata": {},
   "outputs": [],
   "source": [
    "from turtle import *\n",
    "import math\n",
    "pensize(2)\n",
    "pencolor('black')\n",
    "speed('slow')\n",
    "lt(60)\n",
    "fd(250)\n",
    "rt(120)\n",
    "fd(250)\n",
    "lt(180)\n",
    "penup()\n",
    "fd(125)\n",
    "lt(60)\n",
    "pendown()\n",
    "fd(125)\n",
    "mainloop()"
   ]
  },
  {
   "cell_type": "code",
   "execution_count": null,
   "metadata": {},
   "outputs": [],
   "source": []
  }
 ],
 "metadata": {
  "kernelspec": {
   "display_name": "Python 3",
   "language": "python",
   "name": "python3"
  },
  "language_info": {
   "codemirror_mode": {
    "name": "ipython",
    "version": 3
   },
   "file_extension": ".py",
   "mimetype": "text/x-python",
   "name": "python",
   "nbconvert_exporter": "python",
   "pygments_lexer": "ipython3",
   "version": "3.11.4"
  },
  "orig_nbformat": 4
 },
 "nbformat": 4,
 "nbformat_minor": 2
}
