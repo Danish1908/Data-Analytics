{
 "cells": [
  {
   "cell_type": "markdown",
   "metadata": {},
   "source": [
    "Indexing"
   ]
  },
  {
   "cell_type": "code",
   "execution_count": 44,
   "metadata": {},
   "outputs": [
    {
     "name": "stdout",
     "output_type": "stream",
     "text": [
      "Contacts\n"
     ]
    }
   ],
   "source": [
    "apps=[\"Instagram\",\"Facebook\",\"Whatsapp\",\"Contacts\",\"Gallery\",\"Google\",\"Chrome\",\"Safari\",\"Linkedin\",\"Appstore\"]\n",
    "print(apps[3])"
   ]
  },
  {
   "cell_type": "markdown",
   "metadata": {},
   "source": [
    "Reverse Indexing"
   ]
  },
  {
   "cell_type": "code",
   "execution_count": 45,
   "metadata": {},
   "outputs": [
    {
     "name": "stdout",
     "output_type": "stream",
     "text": [
      "Chrome\n"
     ]
    }
   ],
   "source": [
    "apps=[\"Instagram\",\"Facebook\",\"Whatsapp\",\"Contacts\",\"Gallery\",\"Google\",\"Chrome\",\"Safari\",\"Linkedin\",\"Appstore\"]\n",
    "print(apps[-4])"
   ]
  },
  {
   "cell_type": "markdown",
   "metadata": {},
   "source": [
    "Slicing"
   ]
  },
  {
   "cell_type": "code",
   "execution_count": 46,
   "metadata": {},
   "outputs": [
    {
     "name": "stdout",
     "output_type": "stream",
     "text": [
      "['o', 'g', 'r']\n"
     ]
    }
   ],
   "source": [
    "my_list=['p','r','o','g','r','a','m','i','z']\n",
    "print(my_list[2:5])\n"
   ]
  },
  {
   "cell_type": "code",
   "execution_count": 47,
   "metadata": {},
   "outputs": [
    {
     "name": "stdout",
     "output_type": "stream",
     "text": [
      "['a', 'm', 'i', 'z']\n"
     ]
    }
   ],
   "source": [
    "print(my_list[5:])"
   ]
  },
  {
   "cell_type": "code",
   "execution_count": 48,
   "metadata": {},
   "outputs": [
    {
     "name": "stdout",
     "output_type": "stream",
     "text": [
      "['p', 'r', 'o', 'g', 'r', 'a', 'm', 'i', 'z']\n"
     ]
    }
   ],
   "source": [
    "print(my_list[ : ])"
   ]
  },
  {
   "cell_type": "markdown",
   "metadata": {},
   "source": [
    "List_name[initial_index:end_index:index_jump]    (jumpvalue will count from the given no)"
   ]
  },
  {
   "cell_type": "code",
   "execution_count": 49,
   "metadata": {},
   "outputs": [
    {
     "name": "stdout",
     "output_type": "stream",
     "text": [
      "['r', 'g', 'a', 'i']\n"
     ]
    }
   ],
   "source": [
    "print(my_list[1:9:2])"
   ]
  },
  {
   "cell_type": "code",
   "execution_count": 50,
   "metadata": {},
   "outputs": [
    {
     "name": "stdout",
     "output_type": "stream",
     "text": [
      "['z']\n"
     ]
    }
   ],
   "source": [
    "print(my_list[-1:])"
   ]
  },
  {
   "cell_type": "code",
   "execution_count": 51,
   "metadata": {},
   "outputs": [
    {
     "name": "stdout",
     "output_type": "stream",
     "text": [
      "['Instagram', 'Facebook', 'Whatsapp', 'Contacts', 'Gallery', 'Google', 'Chrome', 'Safari', 'Linkedin', 'Appstore', 'edge']\n"
     ]
    }
   ],
   "source": [
    "apps=[\"Instagram\",\"Facebook\",\"Whatsapp\",\"Contacts\",\"Gallery\",\"Google\",\"Chrome\",\"Safari\",\"Linkedin\",\"Appstore\"]\n",
    "apps.append('edge')\n",
    "print(apps)"
   ]
  },
  {
   "cell_type": "code",
   "execution_count": 52,
   "metadata": {},
   "outputs": [
    {
     "name": "stdout",
     "output_type": "stream",
     "text": [
      "['Clock', 'Instagram', 'Facebook', 'Whatsapp', 'Contacts', 'Gallery', 'Google', 'Chrome', 'Safari', 'Linkedin', 'Appstore', 'edge']\n"
     ]
    }
   ],
   "source": [
    "apps.insert(0, 'Clock')\n",
    "print(apps)"
   ]
  },
  {
   "cell_type": "code",
   "execution_count": 59,
   "metadata": {},
   "outputs": [
    {
     "name": "stdout",
     "output_type": "stream",
     "text": [
      "['edge', 'Whatsapp', 'Safari', 'Linkedin', 'Instagram', 'Google', 'Facebook', 'Contacts', 'Clock', 'Chrome', 'Appstore']\n"
     ]
    }
   ],
   "source": [
    "apps.reverse()\n",
    "print(apps)"
   ]
  },
  {
   "cell_type": "code",
   "execution_count": 55,
   "metadata": {},
   "outputs": [
    {
     "name": "stdout",
     "output_type": "stream",
     "text": [
      "['Appstore', 'Chrome', 'Clock', 'Contacts', 'Facebook', 'Google', 'Instagram', 'Linkedin', 'Safari', 'Whatsapp', 'edge']\n"
     ]
    }
   ],
   "source": [
    "apps.pop(5)\n",
    "print(apps)"
   ]
  },
  {
   "cell_type": "code",
   "execution_count": 54,
   "metadata": {},
   "outputs": [
    {
     "name": "stdout",
     "output_type": "stream",
     "text": [
      "['Appstore', 'Chrome', 'Clock', 'Contacts', 'Facebook', 'Gallery', 'Google', 'Instagram', 'Linkedin', 'Safari', 'Whatsapp', 'edge']\n"
     ]
    }
   ],
   "source": [
    "apps.sort()\n",
    "print(apps)"
   ]
  },
  {
   "cell_type": "code",
   "execution_count": 60,
   "metadata": {},
   "outputs": [
    {
     "name": "stdout",
     "output_type": "stream",
     "text": [
      "['edge', 'Whatsapp', 'Safari', 'Linkedin', 'Instagram', 'Google', 'Facebook', 'Contacts', 'Clock', 'Chrome', 'Appstore']\n"
     ]
    }
   ],
   "source": [
    "x=apps.copy()\n",
    "print(x)"
   ]
  },
  {
   "cell_type": "code",
   "execution_count": 61,
   "metadata": {},
   "outputs": [
    {
     "name": "stdout",
     "output_type": "stream",
     "text": [
      "[]\n"
     ]
    }
   ],
   "source": [
    "x.clear()\n",
    "print(x)"
   ]
  },
  {
   "cell_type": "code",
   "execution_count": 62,
   "metadata": {},
   "outputs": [
    {
     "name": "stdout",
     "output_type": "stream",
     "text": [
      "1\n"
     ]
    }
   ],
   "source": [
    "a=apps.count('Safari')\n",
    "print(a)"
   ]
  },
  {
   "cell_type": "code",
   "execution_count": 63,
   "metadata": {},
   "outputs": [
    {
     "name": "stdout",
     "output_type": "stream",
     "text": [
      "['Apple', 'Samsung', 'Oneplus', 'Oppo', 'Nothing', 'Vivo']\n"
     ]
    }
   ],
   "source": [
    "mobile=[\"Apple\",\"Samsung\",\"Oneplus\",\"Oppo\",\"Nothing\",\"Vivo\"]\n",
    "print(mobile)"
   ]
  },
  {
   "cell_type": "code",
   "execution_count": 64,
   "metadata": {},
   "outputs": [
    {
     "name": "stdout",
     "output_type": "stream",
     "text": [
      "['edge', 'Whatsapp', 'Safari', 'Linkedin', 'Instagram', 'Google', 'Facebook', 'Contacts', 'Clock', 'Chrome', 'Appstore', 'Apple', 'Samsung', 'Oneplus', 'Oppo', 'Nothing', 'Vivo']\n"
     ]
    }
   ],
   "source": [
    "apps.extend(mobile)\n",
    "print(apps)"
   ]
  },
  {
   "cell_type": "code",
   "execution_count": null,
   "metadata": {},
   "outputs": [],
   "source": []
  }
 ],
 "metadata": {
  "kernelspec": {
   "display_name": "Python 3",
   "language": "python",
   "name": "python3"
  },
  "language_info": {
   "codemirror_mode": {
    "name": "ipython",
    "version": 3
   },
   "file_extension": ".py",
   "mimetype": "text/x-python",
   "name": "python",
   "nbconvert_exporter": "python",
   "pygments_lexer": "ipython3",
   "version": "3.11.4"
  },
  "orig_nbformat": 4
 },
 "nbformat": 4,
 "nbformat_minor": 2
}
