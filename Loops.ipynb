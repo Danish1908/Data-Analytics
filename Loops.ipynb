{
 "cells": [
  {
   "cell_type": "code",
   "execution_count": 10,
   "metadata": {},
   "outputs": [
    {
     "ename": "SyntaxError",
     "evalue": "invalid syntax (1277732399.py, line 6)",
     "output_type": "error",
     "traceback": [
      "\u001b[1;36m  Cell \u001b[1;32mIn[10], line 6\u001b[1;36m\u001b[0m\n\u001b[1;33m    odd=odd+\" \"+str num\u001b[0m\n\u001b[1;37m                    ^\u001b[0m\n\u001b[1;31mSyntaxError\u001b[0m\u001b[1;31m:\u001b[0m invalid syntax\n"
     ]
    }
   ],
   "source": [
    "number=[10,11,12,14,13,16,17,15,18,20,19]\n",
    "for num in number:\n",
    "    if num%2==0:\n",
    "        print(\"Even:\",num)\n"
   ]
  },
  {
   "cell_type": "markdown",
   "metadata": {},
   "source": [
    "BREAK func."
   ]
  },
  {
   "cell_type": "code",
   "execution_count": 12,
   "metadata": {},
   "outputs": [
    {
     "name": "stdout",
     "output_type": "stream",
     "text": [
      "3 4 7 3 1 8 9 5 88 97 "
     ]
    }
   ],
   "source": [
    "x=[3,4,7,3,1,8,9,5,88,97,0,45,3,0,67,]\n",
    "for i in x:\n",
    "    if i==0:\n",
    "        break\n",
    "    print(i, end=' ')"
   ]
  },
  {
   "cell_type": "markdown",
   "metadata": {},
   "source": [
    "Continue func"
   ]
  },
  {
   "cell_type": "code",
   "execution_count": 16,
   "metadata": {},
   "outputs": [
    {
     "name": "stdout",
     "output_type": "stream",
     "text": [
      "3 4 7 3 1 8 9 5 88 97 3 67 "
     ]
    }
   ],
   "source": [
    "a=[3,4,7,3,1,8,9,5,88,97,0,45,3,0,67,]\n",
    "for i in a:\n",
    "    if i==0 or i==45:\n",
    "        continue\n",
    "    print(i, end=' ')"
   ]
  },
  {
   "cell_type": "code",
   "execution_count": 17,
   "metadata": {},
   "outputs": [
    {
     "name": "stdout",
     "output_type": "stream",
     "text": [
      "3 4 3 1 8 5 88 97 0 3 0 67 "
     ]
    }
   ],
   "source": [
    "x=[3,4,None,3,1,8,None,5,88,97,0,None,3,0,67,]\n",
    "for num in x:\n",
    "    if num==None:\n",
    "        continue\n",
    "    print(num, end=' ')"
   ]
  },
  {
   "cell_type": "code",
   "execution_count": 19,
   "metadata": {},
   "outputs": [
    {
     "name": "stdout",
     "output_type": "stream",
     "text": [
      "179\n"
     ]
    }
   ],
   "source": [
    "odd_sum=0\n",
    "for num in x:\n",
    "    if num is not None and num%2!=0:\n",
    "        odd_sum+=num\n",
    "print(odd_sum)\n"
   ]
  },
  {
   "cell_type": "markdown",
   "metadata": {},
   "source": [
    "Enumerate func"
   ]
  },
  {
   "cell_type": "code",
   "execution_count": 22,
   "metadata": {},
   "outputs": [
    {
     "name": "stdout",
     "output_type": "stream",
     "text": [
      "1 john\n",
      "2 Wick\n",
      "3 Sam\n"
     ]
    }
   ],
   "source": [
    "names=[\"john\",\"Wick\",\"Sam\"]\n",
    "for idx, name in enumerate(names):\n",
    "    print(f\"{idx+1} {name}\")"
   ]
  },
  {
   "cell_type": "markdown",
   "metadata": {},
   "source": [
    "Zip func"
   ]
  },
  {
   "cell_type": "code",
   "execution_count": 23,
   "metadata": {},
   "outputs": [
    {
     "name": "stdout",
     "output_type": "stream",
     "text": [
      "6\n",
      "50\n",
      "32\n",
      "64\n",
      "180\n",
      "189\n"
     ]
    }
   ],
   "source": [
    "x=[1,2,4,2,6,7]\n",
    "y=[2,5,8,4,6,3]\n",
    "z=[3,5,1,8,5,9]\n",
    "for i, j, k in zip(x, y, z):\n",
    "    print(i*j*k)"
   ]
  },
  {
   "cell_type": "code",
   "execution_count": 27,
   "metadata": {},
   "outputs": [
    {
     "name": "stdout",
     "output_type": "stream",
     "text": [
      "Intestellar has rating of 9.6 on IMDB\n",
      "Harry potter has rating of 9.5 on IMDB\n",
      "Gravity has rating of 9.2 on IMDB\n",
      "The Mask has rating of 9.0 on IMDB\n"
     ]
    }
   ],
   "source": [
    "movies=[\"Intestellar\",\"Harry potter\",\"Gravity\",\"The Mask\"]\n",
    "rating=[9.6,9.5,9.2,9.0]\n",
    "for name, star in zip(movies,rating):\n",
    "    print(f'{name} has rating of {star} on IMDB')"
   ]
  },
  {
   "cell_type": "code",
   "execution_count": null,
   "metadata": {},
   "outputs": [],
   "source": []
  }
 ],
 "metadata": {
  "kernelspec": {
   "display_name": "Python 3",
   "language": "python",
   "name": "python3"
  },
  "language_info": {
   "codemirror_mode": {
    "name": "ipython",
    "version": 3
   },
   "file_extension": ".py",
   "mimetype": "text/x-python",
   "name": "python",
   "nbconvert_exporter": "python",
   "pygments_lexer": "ipython3",
   "version": "3.11.4"
  },
  "orig_nbformat": 4
 },
 "nbformat": 4,
 "nbformat_minor": 2
}
